{
 "cells": [
  {
   "cell_type": "markdown",
   "metadata": {},
   "source": [
    "# ESTRUCTURAS DE CONTROL "
   ]
  },
  {
   "cell_type": "markdown",
   "metadata": {},
   "source": [
    "# 1.La sentencia condicional if\n",
    "\n",
    "Al llegar a este punto, ejecuta esta(s) acción(es) solo si esta condición es cierta.\n",
    "\n",
    "sintaxis:\n",
    "\n",
    "if condición:\n",
    "    \n",
    "    acción\n",
    "    \n",
    "    acción\n",
    "    \n",
    "    ...\n",
    "    \n",
    "    acción"
   ]
  },
  {
   "cell_type": "markdown",
   "metadata": {},
   "source": [
    "__Ejemplo 1 :__ Ingresar 3 números por teclado,calcular el máximo de ellos y comparar el máximo con otro número ingresado por teclado."
   ]
  },
  {
   "cell_type": "code",
   "execution_count": 5,
   "metadata": {},
   "outputs": [
    {
     "name": "stdout",
     "output_type": "stream",
     "text": [
      "Ingresar número  1 : 1\n",
      "Ingresar número  2 : 2\n",
      "Ingresar número  3 : 3\n",
      "Ingrese el número a comparar : 4\n",
      "El número 4 es mayor que el de máximo(1,2,3)\n"
     ]
    }
   ],
   "source": [
    "a=int(input(\"Ingresar número  1 : \"))\n",
    "b=int(input(\"Ingresar número  2 : \"))\n",
    "c=int(input(\"Ingresar número  3 : \"))\n",
    "maxi=max(a,b,c)\n",
    "num=int(input('Ingrese el número a comparar : '))\n",
    "if num > maxi :\n",
    "    print (\"El número {0} es mayor que el de máximo({1},{2},{3})\".format(num,a,b,c))"
   ]
  },
  {
   "cell_type": "markdown",
   "metadata": {},
   "source": [
    "# 1.1 Condicional anidadas"
   ]
  },
  {
   "cell_type": "markdown",
   "metadata": {},
   "source": [
    "__Ejemplo 1:__ Diseña un programa que lea un número flotante por teclado y muestre por pantalla\n",
    "el mensaje __El número es negativo solo si el número es menor que cero__."
   ]
  },
  {
   "cell_type": "code",
   "execution_count": 6,
   "metadata": {},
   "outputs": [
    {
     "name": "stdout",
     "output_type": "stream",
     "text": [
      "Ingrese cualquier número : 2.5\n",
      "El número es válido\n",
      "El 2.50 es positivo\n"
     ]
    }
   ],
   "source": [
    "num0=float(input(\"Ingrese cualquier número : \"))\n",
    "if num0 >= 0  or num0 <= 0:\n",
    "    print (\"El número es válido\")\n",
    "    if num0 < 0 :\n",
    "        print (\"El {0:.2f} es negativo\".format(num0))\n",
    "    if num0 > 0 :\n",
    "        print (\"El {0:.2f} es positivo\".format(num0))"
   ]
  },
  {
   "cell_type": "markdown",
   "metadata": {
    "collapsed": true
   },
   "source": [
    "# 1.2 Sentecia if_else\n",
    "\n",
    "sintaxis:\n",
    "\n",
    "if condicíón :\n",
    "\n",
    "    acciones\n",
    "    \n",
    "else :\n",
    "    \n",
    "    if condición:\n",
    "    \n",
    "    else:\n",
    "        otras acciones"
   ]
  },
  {
   "cell_type": "markdown",
   "metadata": {},
   "source": [
    "__Ejemplo 1 :__ Diseña un programa Python que lea un carácter cualquiera desde el teclado, y muestre\n",
    "el mensaje « La letra es MAYÚSCULA » cuando el carácter sea una letra mayúscula y el mensaje «La letra es MINÚSCULA»\n",
    "cuando sea una minúscula."
   ]
  },
  {
   "cell_type": "code",
   "execution_count": 12,
   "metadata": {},
   "outputs": [
    {
     "name": "stdout",
     "output_type": "stream",
     "text": [
      "Ingresa cualquier letra : z\n",
      "La letra es minúscula\n"
     ]
    }
   ],
   "source": [
    "letra=input(\"Ingresa cualquier letra : \")\n",
    "if 'a' <= letra  <= 'z' :\n",
    "    print (\"La letra es minúscula\")\n",
    "else:\n",
    "    print (\"La letra es mayúscula\")"
   ]
  },
  {
   "cell_type": "markdown",
   "metadata": {},
   "source": [
    "__Ejemplo 2 :__ implementar un programa para el desarrollo de una ecuación de este tipo $ax+b=0$ usando el comando if."
   ]
  },
  {
   "cell_type": "code",
   "execution_count": 13,
   "metadata": {},
   "outputs": [
    {
     "name": "stdout",
     "output_type": "stream",
     "text": [
      "Ingrese el valor de a = 5\n",
      "Ingrese el valor de b = 2\n",
      "La solución del sistema es x=  -0.4\n"
     ]
    }
   ],
   "source": [
    "a=float(input(\"Ingrese el valor de a = \"))\n",
    "b=float(input(\"Ingrese el valor de b = \"))\n",
    "if a!=0:\n",
    "    if b== 0 :\n",
    "        print ('La solución es x = ',0)\n",
    "    else:\n",
    "        x=-b/a\n",
    "        print ('La solución del sistema es x= ',x)\n",
    "if a==0 and b!=0:\n",
    "    print ('La ecuación no tiene solución')\n",
    "if a==0 and b==0:\n",
    "    print ('La solución es indeterminada')"
   ]
  },
  {
   "cell_type": "markdown",
   "metadata": {},
   "source": [
    "# 1.3 FORMA COMPACTA DEL else_if (elif)\n",
    "\n",
    "sintaxis:\n",
    "\n",
    "if condicíón :\n",
    "\n",
    "    acciones\n",
    "    \n",
    "elif condición:\n",
    "\n",
    "    acciones\n",
    "    \n",
    "elif condición:\n",
    "\n",
    "    acciones\n",
    "    .\n",
    "    .\n",
    "    ."
   ]
  },
  {
   "cell_type": "markdown",
   "metadata": {
    "collapsed": true
   },
   "source": [
    "__Ejemplo 1 :__ implementar un programa para el desarrollo de una ecuación de este tipo $ax+b=0$ usando el comando __elif__."
   ]
  },
  {
   "cell_type": "code",
   "execution_count": 1,
   "metadata": {},
   "outputs": [
    {
     "name": "stdout",
     "output_type": "stream",
     "text": [
      "Ingrese el valor de a = 2\n",
      "Ingrese el valor de b = 4\n",
      "La solución del sistema es x=  -2.0\n"
     ]
    }
   ],
   "source": [
    "a=float(input(\"Ingrese el valor de a = \"))\n",
    "b=float(input(\"Ingrese el valor de b = \"))\n",
    "if a!=0:\n",
    "    if b == 0 :\n",
    "        print (\"La solucion es x = \" , 0) \n",
    "    else :\n",
    "        x=-b/a\n",
    "        print ('La solución del sistema es x= ',x)\n",
    "elif a==0 and b!=0:\n",
    "    print ('La ecuacion no tiene solución')\n",
    "elif a==0 and b==0:\n",
    "    print ('La solucion es indeterminada')"
   ]
  },
  {
   "cell_type": "markdown",
   "metadata": {},
   "source": [
    "# 1.4 USO DEL if_not"
   ]
  },
  {
   "cell_type": "markdown",
   "metadata": {
    "collapsed": true
   },
   "source": [
    "__Ejemplo 1 :__ Crear un programa con 2 notas de un alumno calcula el promedio, para saber si aprueba o no. Usando la lógica del __if not__ ."
   ]
  },
  {
   "cell_type": "code",
   "execution_count": 2,
   "metadata": {},
   "outputs": [
    {
     "name": "stdout",
     "output_type": "stream",
     "text": [
      "Ingrese la primera nota : 11.5\n",
      "Ingrese la segunda nota : 3\n",
      "Desaprueba el Curso 7.25\n"
     ]
    }
   ],
   "source": [
    "nota1=float(input(\"Ingrese la primera nota : \"))\n",
    "nota2=float(input(\"Ingrese la segunda nota : \"))\n",
    "promedio = (nota1 + nota2)/2\n",
    "if not promedio < 10.5 :\n",
    "    print (\"Aprueba el Curso con {0}\".format(promedio))\n",
    "else :\n",
    "    print (\"Desaprueba el Curso {0}\".format(promedio))"
   ]
  },
  {
   "cell_type": "markdown",
   "metadata": {},
   "source": [
    "__Observación :__ Lo que hace el __not__ es negar, es decir si sale falso cambia a verdadero para ingrese al __if__ ya que solo acepta sentencias verdaderas."
   ]
  },
  {
   "cell_type": "markdown",
   "metadata": {},
   "source": [
    "# Ejercicios if-else-elif"
   ]
  },
  {
   "cell_type": "markdown",
   "metadata": {},
   "source": [
    "1.Escribir un programa que solicite el ingreso de la temperatura en grados, \n",
    "si la temperatura está por encima de 100 grados desplegar el mensaje “arriba del punto de ebullición del agua”, \n",
    "de lo contrario desplegar el mensaje “abajo del punto de ebullición del agua”."
   ]
  },
  {
   "cell_type": "code",
   "execution_count": 2,
   "metadata": {},
   "outputs": [
    {
     "name": "stdout",
     "output_type": "stream",
     "text": [
      "Ingrese la temperatura en grados : 45\n",
      "Abajo del punto de ebullición del agua : \n"
     ]
    }
   ],
   "source": [
    "temp = float(input(\"Ingrese la temperatura en grados : \"))\n",
    "if temp > 100 :\n",
    "    print (\"Arriba del punto de ebullición del agua : \")\n",
    "else :\n",
    "    print (\"Abajo del punto de ebullición del agua : \")"
   ]
  },
  {
   "cell_type": "markdown",
   "metadata": {},
   "source": [
    "2.Escribir un programa que escriba la calificación correspondiente a una nota, de acuerdo con el siguiente criterio:\n",
    "\n",
    "        Condición           Mensaje\n",
    "        0 a < 5.0            Suspenso\n",
    "        5 a  < 6.5           Aprobado\n",
    "        6.5 a  < 8.5        Notable\n",
    "        8.5 a  < 10        Sobresaliente\n",
    "        10                 Matrícula de honor"
   ]
  },
  {
   "cell_type": "code",
   "execution_count": 3,
   "metadata": {},
   "outputs": [
    {
     "name": "stdout",
     "output_type": "stream",
     "text": [
      "Ingrese su nota : 14\n",
      "Matrícula de honor\n"
     ]
    }
   ],
   "source": [
    "nota = float(input(\"Ingrese su nota : \"))\n",
    "if 0<nota<=5.0 :\n",
    "    print(\"Suspenso\")\n",
    "elif 5.0<nota<=6.5 :\n",
    "    print(\"Aprobado\")\n",
    "elif 6.5<nota<=8.5 :\n",
    "    print(\"Notable\")\n",
    "elif 8.5<nota<=10 :\n",
    "    print(\"Sobresaliente\")\n",
    "elif 10<nota :\n",
    "    print(\"Matrícula de honor\")"
   ]
  },
  {
   "cell_type": "markdown",
   "metadata": {},
   "source": [
    "3.Escribir un programa que introduzca el número de un mes (1 a 12) y visualice el número de días de ese mes."
   ]
  },
  {
   "cell_type": "code",
   "execution_count": 4,
   "metadata": {},
   "outputs": [
    {
     "name": "stdout",
     "output_type": "stream",
     "text": [
      "Introduszca el mes 1-12 : 6\n",
      "El mes de junio tiene 30\n"
     ]
    }
   ],
   "source": [
    "mes = int(input(\"Introduszca el mes 1-12 : \"))\n",
    "if mes == 1 :\n",
    "    print(\"El mes de enero tiene 31\")\n",
    "elif mes == 2 :\n",
    "    print(\"El mes de febrero tiene 28\")\n",
    "elif mes == 3 :\n",
    "    print(\"El mes de marzo tiene 31\")\n",
    "elif mes == 4 :\n",
    "    print(\"El mes de abril tiene 30\")\n",
    "elif mes == 5 :\n",
    "    print(\"El mes de mayo tiene 31\")\n",
    "elif mes == 6 :\n",
    "    print(\"El mes de junio tiene 30\")\n",
    "elif mes == 7 :\n",
    "    print(\"El mes de julio tiene 31\")\n",
    "elif mes == 8 :\n",
    "    print(\"El mes de agosto tiene 31\")\n",
    "elif mes == 9 :\n",
    "    print(\"El mes de septiembre tiene 30\")\n",
    "elif mes == 10 :\n",
    "    print(\"El mes de octubre tiene 31\")\n",
    "elif mes == 11 :\n",
    "    print(\"El mes de Noviembre tiene 30\")\n",
    "elif mes == 12 :\n",
    "    print(\"El mes de Diciembre tiene 31\")"
   ]
  },
  {
   "cell_type": "markdown",
   "metadata": {},
   "source": [
    "4.Escribir un programa que simule un calculador simple. Lee dos enteros y un carácter. \n",
    "Si el carácter es un +, se imprime la suma; si es un -, se imprime la diferencia; si es un *, \n",
    "se imprime el producto; si es un /, se imprime el cociente."
   ]
  },
  {
   "cell_type": "code",
   "execution_count": 6,
   "metadata": {},
   "outputs": [
    {
     "name": "stdout",
     "output_type": "stream",
     "text": [
      "*********calculadora**********\n",
      "Ingrese el primer número : 4\n",
      "Ingrese el segundo número : 6\n",
      "Ingrese el operador +,-,*,/ : /\n",
      "La división 1.5\n"
     ]
    }
   ],
   "source": [
    "print('*********calculadora**********')\n",
    "num1 = float(input(\"Ingrese el primer número : \"))\n",
    "num2 = float(input(\"Ingrese el segundo número : \"))\n",
    "operador = input(\"Ingrese el operador +,-,*,/ : \")\n",
    "if operador == '+' :\n",
    "    suma = num1 + num2\n",
    "    print (suma)\n",
    "elif operador == '-' :\n",
    "    if num1 > num2 :\n",
    "        resta = num1 - num2\n",
    "        print (resta)\n",
    "    else :\n",
    "        resta = num2 - num1\n",
    "        print (resta)\n",
    "elif operador == '*' :\n",
    "    producto = num1 * num2\n",
    "    print (producto)\n",
    "elif operador == '/' :\n",
    "    if num1 > num2 :\n",
    "        if num2 == 0 :\n",
    "            print(\"No existe la división\")\n",
    "        else :\n",
    "            div = num1/num2\n",
    "            print(\"La división\",div)\n",
    "    else :\n",
    "        if num1 == 0 :\n",
    "            print(\"No existe la división\")\n",
    "        else :\n",
    "            div = num2/num1\n",
    "            print(\"La división\",div)"
   ]
  },
  {
   "cell_type": "markdown",
   "metadata": {
    "collapsed": true
   },
   "source": [
    "# 2.SENTENCIAS ITERATIVAS"
   ]
  },
  {
   "cell_type": "markdown",
   "metadata": {},
   "source": [
    "# 2.1 USO DEL WHILE"
   ]
  },
  {
   "cell_type": "markdown",
   "metadata": {},
   "source": [
    "el while en ingles significa \"mientras\".\n",
    "\n",
    "sintaxis:\n",
    "    \n",
    "while condición :\n",
    "    \n",
    "    acción:\n",
    "    \n",
    "    acción:\n",
    "    .\n",
    "    .\n",
    "    .\n",
    "    \n",
    "    acción:\n",
    "  \n",
    "Leeremos la sentencia así : Mientras cumpla la condición, repite las acciones."
   ]
  },
  {
   "cell_type": "markdown",
   "metadata": {
    "collapsed": true
   },
   "source": [
    "__Ejemplo 1 :__ Mostrar los 10 primeros números."
   ]
  },
  {
   "cell_type": "code",
   "execution_count": 1,
   "metadata": {
    "scrolled": true
   },
   "outputs": [
    {
     "name": "stdout",
     "output_type": "stream",
     "text": [
      "1\n",
      "2\n",
      "3\n",
      "4\n",
      "5\n",
      "6\n",
      "7\n",
      "8\n",
      "9\n",
      "10\n"
     ]
    }
   ],
   "source": [
    "n=1\n",
    "while n <= 10 :\n",
    "    print (n)\n",
    "    n +=  1\n",
    "    #es igual que poner n = n + 1"
   ]
  },
  {
   "cell_type": "markdown",
   "metadata": {
    "collapsed": true
   },
   "source": [
    "# 2.2 EL BUCLE FOR-IN :"
   ]
  },
  {
   "cell_type": "markdown",
   "metadata": {
    "collapsed": true
   },
   "source": [
    "Sintaxis :\n",
    "\n",
    "__for__ variable  __in__  serie de valores :\n",
    "\n",
    "    acción\n",
    "    \n",
    "    acción\n",
    "    \n",
    "    acción\n",
    "    .\n",
    "    .\n",
    "    .\n",
    "    acción\n",
    "    \n",
    "Se lee : Para todo elemento de una serie, hacer..."
   ]
  },
  {
   "cell_type": "markdown",
   "metadata": {
    "collapsed": true
   },
   "source": [
    "__ejemplo  1 :__ Mostrar los elementos de una lista."
   ]
  },
  {
   "cell_type": "code",
   "execution_count": 4,
   "metadata": {},
   "outputs": [
    {
     "name": "stdout",
     "output_type": "stream",
     "text": [
      "pepe\n",
      "1\n",
      "carlos\n",
      "2\n"
     ]
    }
   ],
   "source": [
    "for i in ['pepe',1,'carlos',2]:\n",
    "    print (i)"
   ]
  },
  {
   "cell_type": "code",
   "execution_count": 4,
   "metadata": {},
   "outputs": [
    {
     "name": "stdout",
     "output_type": "stream",
     "text": [
      "0\n",
      "1\n",
      "2\n",
      "3\n",
      "4\n",
      "5\n",
      "6\n",
      "7\n",
      "8\n",
      "9\n"
     ]
    }
   ],
   "source": [
    "for i in range(0,10):\n",
    "    print (i)"
   ]
  },
  {
   "cell_type": "markdown",
   "metadata": {},
   "source": [
    "__ejemplo 2 :__ Crear un programa que al ingresar la potencia por teclado, te muestre como resultado cada elemento de una lista elevado a la potencia ingresada.(Usar : [2,3,4,5])"
   ]
  },
  {
   "cell_type": "code",
   "execution_count": 5,
   "metadata": {},
   "outputs": [
    {
     "name": "stdout",
     "output_type": "stream",
     "text": [
      "Ingrese la potencia : 3\n",
      "El número 2 elevado a 3 es 8\n",
      "El número 3 elevado a 3 es 27\n",
      "El número 4 elevado a 3 es 64\n",
      "El número 5 elevado a 3 es 125\n"
     ]
    }
   ],
   "source": [
    "p=int(input(\"Ingrese la potencia : \"))\n",
    "for i in [2,3,4,5] :\n",
    "    print (\"El número {0} elevado a {1} es {2}\".format(i,p,i**p))"
   ]
  },
  {
   "cell_type": "markdown",
   "metadata": {},
   "source": [
    "uso de la función __range__ , devuelve un objeto de tipo range(o lista), lo que resulta un tipo enumerador o generador\n",
    "    ,solo se usa cuando se quiere una secuencia de valores."
   ]
  },
  {
   "cell_type": "markdown",
   "metadata": {},
   "source": [
    "-> __range(a,b,c)__ \n",
    "\n",
    "a-> primer argumento ,primer elemento de partida\n",
    "\n",
    "b-> hasta donde se va iterar b-1 ultimo elemento\n",
    "\n",
    "c->incremento"
   ]
  },
  {
   "cell_type": "code",
   "execution_count": 32,
   "metadata": {},
   "outputs": [
    {
     "data": {
      "text/plain": [
       "[0, 1, 2, 3, 4, 5, 6, 7, 8, 9]"
      ]
     },
     "execution_count": 32,
     "metadata": {},
     "output_type": "execute_result"
    }
   ],
   "source": [
    "range(10)"
   ]
  },
  {
   "cell_type": "code",
   "execution_count": 33,
   "metadata": {},
   "outputs": [
    {
     "data": {
      "text/plain": [
       "[1, 2, 3, 4, 5, 6, 7, 8, 9]"
      ]
     },
     "execution_count": 33,
     "metadata": {},
     "output_type": "execute_result"
    }
   ],
   "source": [
    "range(1,10)"
   ]
  },
  {
   "cell_type": "code",
   "execution_count": 34,
   "metadata": {},
   "outputs": [
    {
     "data": {
      "text/plain": [
       "[1, 3, 5, 7, 9]"
      ]
     },
     "execution_count": 34,
     "metadata": {},
     "output_type": "execute_result"
    }
   ],
   "source": [
    "range(1,10,2)"
   ]
  },
  {
   "cell_type": "markdown",
   "metadata": {
    "collapsed": true
   },
   "source": [
    "__ejemplo 3 :__ Mostrar todos los números pares del rango 1 al 20."
   ]
  },
  {
   "cell_type": "code",
   "execution_count": 6,
   "metadata": {
    "scrolled": true
   },
   "outputs": [
    {
     "name": "stdout",
     "output_type": "stream",
     "text": [
      "2\n",
      "4\n",
      "6\n",
      "8\n",
      "10\n",
      "12\n",
      "14\n",
      "16\n",
      "18\n",
      "20\n"
     ]
    }
   ],
   "source": [
    "for i in range(1,21):\n",
    "    if i % 2 == 0 :\n",
    "        print (i)"
   ]
  },
  {
   "cell_type": "markdown",
   "metadata": {},
   "source": [
    "formas practicas :\n",
    "\n",
    "for i in range(valor inicial , valor final + 1 ,incremento)"
   ]
  },
  {
   "cell_type": "markdown",
   "metadata": {
    "collapsed": true
   },
   "source": [
    "__ejemplo 4 :__ Crear un programa que pida por pantalla cualquier número y muestre si es primo o no."
   ]
  },
  {
   "cell_type": "code",
   "execution_count": 8,
   "metadata": {},
   "outputs": [
    {
     "name": "stdout",
     "output_type": "stream",
     "text": [
      "Ingrese el cualquier número : 23\n",
      "El 23 es un número primo \n"
     ]
    }
   ],
   "source": [
    "num=int(input(\"Ingrese el cualquier número : \"))\n",
    "\n",
    "cont=1\n",
    "#empezaremos desde 2 hacia el número\n",
    "for i in range(2,num+1) :\n",
    "    #el bucle itera el modulo hasta llegar hasta si mismo,para hallar la cantidad de divisores \n",
    "    if num%i==0 :\n",
    "        cont+=1\n",
    "\n",
    "if cont==2 :\n",
    "    print (\"El {0} es un número primo \".format(num))\n",
    "else :\n",
    "    print (\"El {0} no es un número primo \".format(num))"
   ]
  },
  {
   "cell_type": "markdown",
   "metadata": {},
   "source": [
    "# 2.3 ROCTURA DE BUCLES :  break "
   ]
  },
  {
   "cell_type": "markdown",
   "metadata": {
    "collapsed": true
   },
   "source": [
    "__ejemplo 1 : __ Mostrar los 20 primeros números, pero si reconoce número primo 13 romper el bucle."
   ]
  },
  {
   "cell_type": "code",
   "execution_count": 11,
   "metadata": {},
   "outputs": [
    {
     "name": "stdout",
     "output_type": "stream",
     "text": [
      "1\n",
      "2\n",
      "3\n",
      "4\n",
      "5\n",
      "6\n",
      "7\n",
      "8\n",
      "9\n",
      "10\n",
      "11\n",
      "12\n"
     ]
    }
   ],
   "source": [
    "for i in range(1,21) :\n",
    "    if i == 13 :\n",
    "        break\n",
    "    print (i)    "
   ]
  },
  {
   "cell_type": "markdown",
   "metadata": {},
   "source": [
    "# Ejercicios - while - for"
   ]
  },
  {
   "cell_type": "markdown",
   "metadata": {},
   "source": [
    "1.Que muestre los números del 100 al 1."
   ]
  },
  {
   "cell_type": "code",
   "execution_count": 7,
   "metadata": {},
   "outputs": [
    {
     "name": "stdout",
     "output_type": "stream",
     "text": [
      "10\n",
      "9\n",
      "8\n",
      "7\n",
      "6\n",
      "5\n",
      "4\n",
      "3\n",
      "2\n",
      "1\n"
     ]
    }
   ],
   "source": [
    "x=10\n",
    "while (x>0):\n",
    "    print(x)\n",
    "    x-=1"
   ]
  },
  {
   "cell_type": "markdown",
   "metadata": {},
   "source": [
    "2.Que muestre los números impares que haya del 1 al 100."
   ]
  },
  {
   "cell_type": "code",
   "execution_count": 8,
   "metadata": {},
   "outputs": [
    {
     "name": "stdout",
     "output_type": "stream",
     "text": [
      "9\n",
      "7\n",
      "5\n",
      "3\n",
      "1\n"
     ]
    }
   ],
   "source": [
    "x=10\n",
    "while (x>0):\n",
    "    if x%2 != 0:\n",
    "        print(x)\n",
    "    x-=1"
   ]
  },
  {
   "cell_type": "markdown",
   "metadata": {},
   "source": [
    "3.Que imprima la suma de todos los números pares que van del 1 al 100 y diga cuántos hay."
   ]
  },
  {
   "cell_type": "code",
   "execution_count": 9,
   "metadata": {},
   "outputs": [
    {
     "name": "stdout",
     "output_type": "stream",
     "text": [
      "La suma de todos los números pares es igual a : 30 y son un total de : 5 números\n"
     ]
    }
   ],
   "source": [
    "x = 1\n",
    "suma = 0\n",
    "cont = 0\n",
    "while (x<=10) :\n",
    "    if x % 2 == 0 :\n",
    "        suma = suma + x\n",
    "        cont += 1\n",
    "        #print(x)\n",
    "    x+=1\n",
    "print(\"La suma de todos los números pares es igual a : {0} y son un total de : {1} números\".format(suma,cont))"
   ]
  },
  {
   "cell_type": "markdown",
   "metadata": {},
   "source": [
    "4.Cree un programa que ingrese dos números y muestre todos los números que van desde el primero al segundo. solo los primos"
   ]
  },
  {
   "cell_type": "code",
   "execution_count": 10,
   "metadata": {},
   "outputs": [
    {
     "name": "stdout",
     "output_type": "stream",
     "text": [
      "Ingrese el primer número : 2\n",
      "Ingrese el segundo número : 10\n",
      "2\n",
      "3\n",
      "5\n",
      "7\n"
     ]
    }
   ],
   "source": [
    "a = int(input(\"Ingrese el primer número : \"))\n",
    "b = int(input(\"Ingrese el segundo número : \"))\n",
    "for i in range(a,b+1) :\n",
    "    cont = 1\n",
    "    for j in range(2,i+1) :\n",
    "        if i % j == 0 :\n",
    "            cont+=1    \n",
    "    if cont==2 :\n",
    "        print(i)"
   ]
  },
  {
   "cell_type": "markdown",
   "metadata": {},
   "source": [
    "5.Un grupo de diez estudiantes realizó un examen. Usted tiene a su disposición las calificaciones (enteros en el rango de 0 a 20)de este examen. Determine el promedio de las calificaciones del grupo en este examen."
   ]
  },
  {
   "cell_type": "code",
   "execution_count": 11,
   "metadata": {},
   "outputs": [
    {
     "name": "stdout",
     "output_type": "stream",
     "text": [
      "Ingrese el nombre del alumno : cristian\n",
      "Ingrese la nota del alumno : 14\n",
      "Ingrese el nombre del alumno : jorge\n",
      "Ingrese la nota del alumno : 10\n",
      "El promedio de los alumnos es igual :  8.0\n"
     ]
    }
   ],
   "source": [
    "suma = 0\n",
    "for i in range(1,3):\n",
    "    nombre = input(\"Ingrese el nombre del alumno : \")\n",
    "    nota = float(input(\"Ingrese la nota del alumno : \"))\n",
    "    suma = suma + nota\n",
    "    promedio = suma / 3\n",
    "print(\"El promedio de los alumnos es igual : \",promedio)"
   ]
  },
  {
   "cell_type": "markdown",
   "metadata": {},
   "source": [
    "6.Cree un programa que imprima los 10  primeros terminos de la sucesión de Fibonacci."
   ]
  },
  {
   "cell_type": "code",
   "execution_count": 16,
   "metadata": {},
   "outputs": [
    {
     "name": "stdout",
     "output_type": "stream",
     "text": [
      "ingrese los n números : 10\n",
      "1\n",
      "1\n",
      "2\n",
      "3\n",
      "5\n",
      "8\n",
      "13\n",
      "21\n",
      "34\n",
      "55\n"
     ]
    }
   ],
   "source": [
    "n=int(input(\"ingrese los n números : \"))\n",
    "x = 1\n",
    "y = 0\n",
    "for i in range(1,n+2):\n",
    "    if i == 1 : \n",
    "        fib = 1\n",
    "        print(fib)\n",
    "    if i  > 2 :\n",
    "        fib = x + y \n",
    "        print(fib)\n",
    "        y = x\n",
    "        x = fib"
   ]
  },
  {
   "cell_type": "raw",
   "metadata": {},
   "source": []
  },
  {
   "cell_type": "raw",
   "metadata": {},
   "source": []
  },
  {
   "cell_type": "markdown",
   "metadata": {},
   "source": [
    "# C.J.Q.P"
   ]
  }
 ],
 "metadata": {
  "anaconda-cloud": {},
  "kernelspec": {
   "display_name": "Python 3",
   "language": "python",
   "name": "python3"
  },
  "language_info": {
   "codemirror_mode": {
    "name": "ipython",
    "version": 3
   },
   "file_extension": ".py",
   "mimetype": "text/x-python",
   "name": "python",
   "nbconvert_exporter": "python",
   "pygments_lexer": "ipython3",
   "version": "3.6.3"
  }
 },
 "nbformat": 4,
 "nbformat_minor": 1
}
